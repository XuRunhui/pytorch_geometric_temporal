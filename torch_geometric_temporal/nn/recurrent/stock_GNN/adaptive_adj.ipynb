{
 "cells": [
  {
   "cell_type": "code",
   "execution_count": 1,
   "id": "cd07c36c",
   "metadata": {},
   "outputs": [],
   "source": [
    "import torch\n",
    "import torch.nn as nn\n",
    "\n",
    "\n",
    "from torch_geometric_temporal.nn.recurrent.stock_GNN.adaptive_adj import DynamicGraphLightning\n",
    "from torch_geometric_temporal.nn.recurrent.stock_GNN.stock_dataset import StockDataset\n",
    "from torch_geometric_temporal.nn.recurrent.stock_GNN.adp_adj_loss import AccumulativeGainLoss"
   ]
  },
  {
   "cell_type": "code",
   "execution_count": 2,
   "id": "262b8fbf",
   "metadata": {},
   "outputs": [
    {
     "name": "stdout",
     "output_type": "stream",
     "text": [
      "Output shape: torch.Size([32, 610, 3])\n"
     ]
    },
    {
     "name": "stderr",
     "output_type": "stream",
     "text": [
      "/root/miniconda3/envs/pyg_t/lib/python3.10/site-packages/pytorch_lightning/core/module.py:441: You are trying to `self.log()` but the `self.trainer` reference is not registered on the model yet. This is most likely because the model hasn't been passed to the `Trainer`\n"
     ]
    }
   ],
   "source": [
    "DGL = DynamicGraphLightning(node_feat_dim=32)\n",
    "\n",
    "random_input = torch.randn(32, 20, 32, 610)  # Batch size of 32, feature dimension of 128\n",
    "output = DGL(random_input)\n",
    "print(\"Output shape:\", output.shape)  # Should print: Output shape: torch.Size([32, 500, 128])"
   ]
  },
  {
   "cell_type": "code",
   "execution_count": 3,
   "id": "12fb3d6b",
   "metadata": {},
   "outputs": [
    {
     "name": "stdout",
     "output_type": "stream",
     "text": [
      "Loss value: 0.025874925777316093\n"
     ]
    }
   ],
   "source": [
    "loss = AccumulativeGainLoss()\n",
    "random_target = torch.randn(32, 7, 610, 3)  # Random target for loss computation\n",
    "loss_value = loss(output, random_target)\n",
    "print(\"Loss value:\", loss_value.item())  # Should print the computed loss value\n"
   ]
  },
  {
   "cell_type": "code",
   "execution_count": null,
   "id": "5d076dad",
   "metadata": {},
   "outputs": [],
   "source": []
  }
 ],
 "metadata": {
  "kernelspec": {
   "display_name": "pyg_t",
   "language": "python",
   "name": "python3"
  },
  "language_info": {
   "codemirror_mode": {
    "name": "ipython",
    "version": 3
   },
   "file_extension": ".py",
   "mimetype": "text/x-python",
   "name": "python",
   "nbconvert_exporter": "python",
   "pygments_lexer": "ipython3",
   "version": "3.10.18"
  }
 },
 "nbformat": 4,
 "nbformat_minor": 5
}
