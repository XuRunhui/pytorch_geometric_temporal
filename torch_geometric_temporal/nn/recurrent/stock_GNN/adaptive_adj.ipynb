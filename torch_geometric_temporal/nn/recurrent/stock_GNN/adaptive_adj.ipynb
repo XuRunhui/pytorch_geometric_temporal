{
 "cells": [
  {
   "cell_type": "code",
   "execution_count": 1,
   "id": "cd07c36c",
   "metadata": {},
   "outputs": [],
   "source": [
    "import torch\n",
    "import torch.nn as nn\n",
    "\n",
    "\n",
    "from torch_geometric_temporal.nn.recurrent.stock_GNN.adaptive_adj import DynamicGraphLightning\n",
    "from torch_geometric_temporal.nn.recurrent.stock_GNN.stock_dataset import StockDataset"
   ]
  },
  {
   "cell_type": "code",
   "execution_count": 2,
   "id": "262b8fbf",
   "metadata": {},
   "outputs": [
    {
     "name": "stdout",
     "output_type": "stream",
     "text": [
      "Output shape: torch.Size([32, 610, 3])\n"
     ]
    }
   ],
   "source": [
    "DGL = DynamicGraphLightning(node_feat_dim=32)\n",
    "\n",
    "random_input = torch.randn(32, 20, 32, 610)  # Batch size of 32, feature dimension of 128\n",
    "output = DGL(random_input)\n",
    "print(\"Output shape:\", output.shape)  # Should print: Output shape: torch.Size([32, 500, 128])"
   ]
  },
  {
   "cell_type": "code",
   "execution_count": null,
   "id": "12fb3d6b",
   "metadata": {},
   "outputs": [],
   "source": []
  }
 ],
 "metadata": {
  "kernelspec": {
   "display_name": "pyg_t",
   "language": "python",
   "name": "python3"
  },
  "language_info": {
   "codemirror_mode": {
    "name": "ipython",
    "version": 3
   },
   "file_extension": ".py",
   "mimetype": "text/x-python",
   "name": "python",
   "nbconvert_exporter": "python",
   "pygments_lexer": "ipython3",
   "version": "3.10.18"
  }
 },
 "nbformat": 4,
 "nbformat_minor": 5
}
